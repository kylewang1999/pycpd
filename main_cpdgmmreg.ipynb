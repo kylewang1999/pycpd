{
 "cells": [
  {
   "cell_type": "markdown",
   "metadata": {},
   "source": [
    "# CPD GMM Registration Playground"
   ]
  },
  {
   "cell_type": "markdown",
   "metadata": {},
   "source": [
    "## 1. See Reg Result "
   ]
  },
  {
   "cell_type": "code",
   "execution_count": 1,
   "metadata": {},
   "outputs": [
    {
     "name": "stdout",
     "output_type": "stream",
     "text": [
      "Jupyter environment detected. Enabling Open3D WebVisualizer.\n",
      "[Open3D INFO] WebRTC GUI backend enabled.\n",
      "[Open3D INFO] WebRTCWindowSystem: HTTP handshake server disabled.\n"
     ]
    }
   ],
   "source": [
    "%load_ext autoreload \n",
    "%autoreload 2\n",
    "import numpy as np, pickle\n",
    "from os.path import expanduser\n",
    "from tqdm import tqdm\n",
    "from sklearn.mixture import GaussianMixture\n",
    "from pycpd.deformable_registration import DeformableRegistration\n",
    "# from pycpd.pycpd.deformable_registration import DeformableRegistration\n",
    "\n",
    "\n",
    "''' TODO: \n",
    "- [] Compare sklearn GMM variance vs. pyCPD updated variance.\n",
    "     They should be the same (using the same tissue surface)\n",
    "- [] Does the original scalar-valued sigma2 cause non-invertible matrices?\n",
    "'''\n",
    "from pycpd.utility import gaussian_corruption, plt_gmm, plt_gmm_o3d, wkmeans, gmm_params, \\\n",
    "    farthest_point_sample, pcd2depth, compare_pcd, compare_pcd_2d, pcd_to_o3d\n",
    "\n",
    "pcd = np.load('/home/kyle/Desktop/data/pcd_toys/dense_surfel.npy')[::100]\n",
    "# pcd = pickle.load(open(expanduser(\"~/Desktop/data/pcd_toys/teapot.pickle\"), 'rb'))\n",
    "\n",
    "def get_sklearn_gmm_params(pcd, num_clusters=256):\n",
    "    gmm = GaussianMixture(n_components=num_clusters, covariance_type='spherical')\n",
    "    gmm.fit(pcd)\n",
    "    mu = gmm.means_; sig = gmm.covariances_\n",
    "    return mu, sig\n",
    "    \n",
    "\n",
    "''' Compute sklearn gmm params'''\n",
    "mu, sig = get_sklearn_gmm_params(pcd)\n",
    "reg_solver = DeformableRegistration(X=pcd, Y=mu, \n",
    "            max_iterations=50, sigma2=(sig)) # TODO:  X = target, Y = source\n",
    "reg_solver.register()\n",
    "\n",
    "mu_ = reg_solver.transform_point_cloud(mu)\n",
    "sig_ = reg_solver.sigma2\n",
    "\n",
    "# for _ in tqdm(range(100)): \n",
    "#     reg_solver = DeformableRegistration(X=pcd, Y=mu_, \n",
    "#             max_iterations=50, sigma2=(sig_)) # TODO:  X = target, Y = source\n",
    "#     reg_solver.register()\n",
    "#     mu_ = reg_solver.transform_point_cloud(mu_)\n",
    "#     sig_ = reg_solver.sigma2\n",
    "\n",
    "\n",
    "print(f'Mean of sigma2:   sklearn {np.mean(sig)}    |    pycpd {np.mean(sig_)}')\n",
    "compare_pcd_2d([pcd, mu] )\n",
    "compare_pcd_2d([pcd, mu_])\n",
    "compare_pcd_2d([mu, mu_] )\n"
   ]
  },
  {
   "cell_type": "markdown",
   "metadata": {},
   "source": [
    "## Developt Torch-based Optimization"
   ]
  },
  {
   "cell_type": "code",
   "execution_count": 17,
   "metadata": {},
   "outputs": [
    {
     "name": "stdout",
     "output_type": "stream",
     "text": [
      "The autoreload extension is already loaded. To reload it, use:\n",
      "  %reload_ext autoreload\n"
     ]
    }
   ],
   "source": [
    "%load_ext autoreload \n",
    "%autoreload 2\n",
    "from pycpd.deformable_registration_torch import *\n",
    "from pycpd.utility import *\n",
    "from sklearn.mixture import GaussianMixture\n",
    "\n",
    "def get_sklearn_gmm_params(pcd, num_clusters=256):\n",
    "    gmm = GaussianMixture(n_components=num_clusters, covariance_type='spherical')\n",
    "    gmm.fit(pcd)\n",
    "    mu = gmm.means_; sig = gmm.covariances_\n",
    "    return mu, sig\n",
    "\n",
    "pcd = np.load('/home/kyle/Desktop/data/pcd_toys/dense_surfel.npy')\n",
    "pcd = pcd[::100]\n",
    "mu, sig = get_sklearn_gmm_params(pcd)\n",
    "\n",
    "mu = numpy_to_torch(mu); sig = numpy_to_torch(sig)\n",
    "pcd = numpy_to_torch(pcd)\n",
    "\n",
    "X, Y = pcd, mu\n",
    "\n",
    "reg_solver = DeformableRegistrationTorch(X=X, Y=Y, \n",
    "            max_iterations=50, sigma2=(sig)) # TODO:  X = target, Y = source\n",
    "reg_solver.register()\n",
    "\n",
    "mu_ = reg_solver.transform_point_cloud(mu)\n",
    "sig_ = reg_solver.sigma2\n",
    "\n",
    "# sigma2 = compute_sigma2(X,Y)\n",
    "\n",
    "\n",
    "# print(f'Mean of sigma2:   sklearn {np.mean(sig)}    |    pycpd {np.mean(sig_)}')\n",
    "compare_pcd_2d([mu, mu_, pcd])\n",
    "\n"
   ]
  },
  {
   "cell_type": "markdown",
   "metadata": {},
   "source": [
    "## Teapot"
   ]
  },
  {
   "cell_type": "code",
   "execution_count": null,
   "metadata": {},
   "outputs": [],
   "source": [
    "import pickle, numpy as np\n",
    "from os.path import expanduser\n",
    "\n",
    "from utils.utils import *\n",
    "from utils.gmm_reg import *\n",
    "\n",
    "pcd = pickle.load(open(expanduser(\"~/Desktop/data/pcd_toys/teapot.pickle\"), 'rb'))\n",
    "T = get_rand_transform(); r, t = T[:3,:3], T[:3,:3]\n",
    "tgt, src = pcd, gaussian_corruption(pcd,std=0.1) @ r + t\n",
    "tgt, src = numpy_to_torch(tgt).unsqueeze(0), numpy_to_torch(src).unsqueeze(0)\n",
    "\n",
    "gamma, pi, mu = wkmeans(tgt)\n",
    "pi, mu, sig = gmm_params(gamma, tgt, return_sigma=True)\n",
    "\n",
    "gamma_, pi_, mu_ = wkmeans(src)\n",
    "pi_, mu_, sig_ = gmm_params(gamma_, src, return_sigma=True)\n",
    "\n",
    "T_pred = gmm_register(pi_, mu_, mu, sig).squeeze(0)\n",
    "r_pred, t_pred = T_pred[:3,:3], T_pred[3,:3]\n",
    "\n",
    "r_pred, t_pred, tgt, src = torch_to_numpy(r_pred), torch_to_numpy(t_pred), torch_to_numpy(tgt.squeeze(0)), torch_to_numpy(src.squeeze(0))\n",
    "\n",
    "compare_pcd([tgt, src@r_pred+t_pred], title=\"Original vs. Reconstructed PCD\")\n",
    "compare_pcd([tgt, (src-t)@np.linalg.inv(r)])\n"
   ]
  }
 ],
 "metadata": {
  "kernelspec": {
   "display_name": "super",
   "language": "python",
   "name": "python3"
  },
  "language_info": {
   "codemirror_mode": {
    "name": "ipython",
    "version": 3
   },
   "file_extension": ".py",
   "mimetype": "text/x-python",
   "name": "python",
   "nbconvert_exporter": "python",
   "pygments_lexer": "ipython3",
   "version": "3.8.16"
  },
  "orig_nbformat": 4
 },
 "nbformat": 4,
 "nbformat_minor": 2
}
